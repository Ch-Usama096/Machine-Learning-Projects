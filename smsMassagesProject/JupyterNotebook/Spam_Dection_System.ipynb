{
 "cells": [
  {
   "cell_type": "markdown",
   "metadata": {
    "id": "YscsNBH19XCk"
   },
   "source": [
    "<b>Modules"
   ]
  },
  {
   "cell_type": "code",
   "execution_count": 1,
   "metadata": {
    "id": "uxbSCaOg9RKj"
   },
   "outputs": [],
   "source": [
    "import numpy as np\n",
    "import pandas as pd\n",
    "import matplotlib.pyplot as plt\n",
    "import seaborn as sns\n",
    "import re\n",
    "import spacy\n",
    "from sklearn.preprocessing import LabelEncoder\n",
    "from sklearn.model_selection import train_test_split\n",
    "from sklearn.feature_extraction.text import CountVectorizer\n",
    "from sklearn.feature_extraction.text import TfidfVectorizer\n",
    "from sklearn.linear_model import LogisticRegression\n",
    "from sklearn.tree import DecisionTreeClassifier\n",
    "from sklearn.ensemble import RandomForestClassifier\n",
    "from sklearn.metrics import accuracy_score\n",
    "from sklearn.metrics import confusion_matrix\n",
    "from sklearn.metrics import classification_report\n",
    "import pickle"
   ]
  },
  {
   "cell_type": "markdown",
   "metadata": {
    "id": "w-3ay95M9k4y"
   },
   "source": [
    "<b>Infromation About Dataset"
   ]
  },
  {
   "cell_type": "code",
   "execution_count": 2,
   "metadata": {
    "colab": {
     "base_uri": "https://localhost:8080/",
     "height": 143
    },
    "collapsed": true,
    "id": "p-ahimBK9jFh",
    "outputId": "8106c33c-2955-4050-a0dc-d05e250b0baf"
   },
   "outputs": [
    {
     "data": {
      "text/html": [
       "<div>\n",
       "<style scoped>\n",
       "    .dataframe tbody tr th:only-of-type {\n",
       "        vertical-align: middle;\n",
       "    }\n",
       "\n",
       "    .dataframe tbody tr th {\n",
       "        vertical-align: top;\n",
       "    }\n",
       "\n",
       "    .dataframe thead th {\n",
       "        text-align: right;\n",
       "    }\n",
       "</style>\n",
       "<table border=\"1\" class=\"dataframe\">\n",
       "  <thead>\n",
       "    <tr style=\"text-align: right;\">\n",
       "      <th></th>\n",
       "      <th>Category</th>\n",
       "      <th>Message</th>\n",
       "    </tr>\n",
       "  </thead>\n",
       "  <tbody>\n",
       "    <tr>\n",
       "      <th>0</th>\n",
       "      <td>ham</td>\n",
       "      <td>Go until jurong point, crazy.. Available only ...</td>\n",
       "    </tr>\n",
       "    <tr>\n",
       "      <th>1</th>\n",
       "      <td>ham</td>\n",
       "      <td>Ok lar... Joking wif u oni...</td>\n",
       "    </tr>\n",
       "    <tr>\n",
       "      <th>2</th>\n",
       "      <td>spam</td>\n",
       "      <td>Free entry in 2 a wkly comp to win FA Cup fina...</td>\n",
       "    </tr>\n",
       "    <tr>\n",
       "      <th>3</th>\n",
       "      <td>ham</td>\n",
       "      <td>U dun say so early hor... U c already then say...</td>\n",
       "    </tr>\n",
       "    <tr>\n",
       "      <th>4</th>\n",
       "      <td>ham</td>\n",
       "      <td>Nah I don't think he goes to usf, he lives aro...</td>\n",
       "    </tr>\n",
       "  </tbody>\n",
       "</table>\n",
       "</div>"
      ],
      "text/plain": [
       "  Category                                            Message\n",
       "0      ham  Go until jurong point, crazy.. Available only ...\n",
       "1      ham                      Ok lar... Joking wif u oni...\n",
       "2     spam  Free entry in 2 a wkly comp to win FA Cup fina...\n",
       "3      ham  U dun say so early hor... U c already then say...\n",
       "4      ham  Nah I don't think he goes to usf, he lives aro..."
      ]
     },
     "execution_count": 2,
     "metadata": {},
     "output_type": "execute_result"
    }
   ],
   "source": [
    "# Load the Dataset\n",
    "dataset = pd.read_csv(\"spamMassages.csv\")\n",
    "\n",
    "# Display the Data\n",
    "dataset.head(5)"
   ]
  },
  {
   "cell_type": "code",
   "execution_count": 3,
   "metadata": {
    "collapsed": true,
    "id": "ai0NENoG-5Zi"
   },
   "outputs": [
    {
     "name": "stdout",
     "output_type": "stream",
     "text": [
      "The Shape of the Dataset is : (5572, 2)\n"
     ]
    }
   ],
   "source": [
    "# Display the Shape of the Dataset\n",
    "print(\"The Shape of the Dataset is : {}\".format(dataset.shape))"
   ]
  },
  {
   "cell_type": "code",
   "execution_count": 4,
   "metadata": {
    "collapsed": true,
    "id": "LAFhUdfu_Foq"
   },
   "outputs": [
    {
     "name": "stdout",
     "output_type": "stream",
     "text": [
      "Category    0\n",
      "Message     0\n",
      "dtype: int64\n"
     ]
    }
   ],
   "source": [
    "# Count the Missing Values in the Dataset\n",
    "nanValues = dataset.isnull().sum()\n",
    "\n",
    "# Display the Total Count of Nan Values in the Dataset\n",
    "print(nanValues)"
   ]
  },
  {
   "cell_type": "code",
   "execution_count": 5,
   "metadata": {
    "collapsed": true,
    "id": "jknR4cEt_SLl"
   },
   "outputs": [
    {
     "name": "stdout",
     "output_type": "stream",
     "text": [
      "415\n"
     ]
    }
   ],
   "source": [
    "# Count the Duplicated Row in the Dataset\n",
    "duplicatedData = dataset.duplicated().sum()\n",
    "\n",
    "# Display the Total Count of Duplicated Row in the Dataset\n",
    "print(duplicatedData)"
   ]
  },
  {
   "cell_type": "code",
   "execution_count": 6,
   "metadata": {
    "colab": {
     "base_uri": "https://localhost:8080/"
    },
    "collapsed": true,
    "id": "KMJsBF3Q_iQl",
    "outputId": "ce235d47-22a6-47d1-f431-c14ece8365c3"
   },
   "outputs": [
    {
     "name": "stdout",
     "output_type": "stream",
     "text": [
      "The Shape of the Dataset is After drop the Duplicated Data : (5157, 2)\n"
     ]
    }
   ],
   "source": [
    "# Drop the Duplicated Row from the Dataset\n",
    "dataset.drop_duplicates(inplace = True)\n",
    "\n",
    "# Display the Shape After Drop the Duplicated Row\n",
    "print('The Shape of the Dataset is After drop the Duplicated Data : {}'.format(dataset.shape))"
   ]
  },
  {
   "cell_type": "code",
   "execution_count": 7,
   "metadata": {
    "collapsed": true,
    "id": "Ix6wH8Rj_jzz"
   },
   "outputs": [
    {
     "name": "stdout",
     "output_type": "stream",
     "text": [
      "ham     4516\n",
      "spam     641\n",
      "Name: Category, dtype: int64\n"
     ]
    }
   ],
   "source": [
    "# Find out the Total Count of the each Classes Label\n",
    "countClasses = dataset[\"Category\"].value_counts()\n",
    "\n",
    "# Display the Total Count of the each Classes Label\n",
    "print(countClasses)"
   ]
  },
  {
   "cell_type": "code",
   "execution_count": 8,
   "metadata": {
    "collapsed": true,
    "id": "-tjFyHYPA2HS"
   },
   "outputs": [
    {
     "name": "stdout",
     "output_type": "stream",
     "text": [
      "<class 'pandas.core.frame.DataFrame'>\n",
      "Int64Index: 5157 entries, 0 to 5571\n",
      "Data columns (total 2 columns):\n",
      " #   Column    Non-Null Count  Dtype \n",
      "---  ------    --------------  ----- \n",
      " 0   Category  5157 non-null   object\n",
      " 1   Message   5157 non-null   object\n",
      "dtypes: object(2)\n",
      "memory usage: 120.9+ KB\n",
      "None\n"
     ]
    }
   ],
   "source": [
    "# Display the Info of the Dataset\n",
    "print(dataset.info())"
   ]
  },
  {
   "cell_type": "markdown",
   "metadata": {
    "id": "yoAoeQImBG1w"
   },
   "source": [
    "<b>Preprocessing the Text Data"
   ]
  },
  {
   "cell_type": "code",
   "execution_count": 9,
   "metadata": {
    "id": "ObO_02D9BCUV"
   },
   "outputs": [],
   "source": [
    "# Load the Spacy Small Pre-Trained Model\n",
    "nlp = spacy.load(\"en_core_web_sm\")"
   ]
  },
  {
   "cell_type": "code",
   "execution_count": 10,
   "metadata": {
    "id": "1qao_TftBQOq"
   },
   "outputs": [],
   "source": [
    "def preprocessing_text(text):\n",
    "    text = re.sub(\"[^a-zA-Z]\" , \" \" , text) # Only extract the Text Data\n",
    "    text = text.lower() # Convert the Text into lower Case\n",
    "    text = nlp(text)  # Read the Text Data\n",
    "    corpus = []\n",
    "\n",
    "    # Clean the Text Data\n",
    "    for token in text:\n",
    "        if token.is_punct or token.is_stop or len(token) == 1 or len(token) == 2:\n",
    "            continue\n",
    "        corpus.append(token.lemma_)\n",
    "    return \" \".join(corpus)"
   ]
  },
  {
   "cell_type": "code",
   "execution_count": 11,
   "metadata": {
    "colab": {
     "base_uri": "https://localhost:8080/",
     "height": 143
    },
    "collapsed": true,
    "id": "mAm1X1O9BxQG",
    "outputId": "a14e14da-005e-448b-df5c-b5e04dd2b015"
   },
   "outputs": [
    {
     "data": {
      "text/html": [
       "<div>\n",
       "<style scoped>\n",
       "    .dataframe tbody tr th:only-of-type {\n",
       "        vertical-align: middle;\n",
       "    }\n",
       "\n",
       "    .dataframe tbody tr th {\n",
       "        vertical-align: top;\n",
       "    }\n",
       "\n",
       "    .dataframe thead th {\n",
       "        text-align: right;\n",
       "    }\n",
       "</style>\n",
       "<table border=\"1\" class=\"dataframe\">\n",
       "  <thead>\n",
       "    <tr style=\"text-align: right;\">\n",
       "      <th></th>\n",
       "      <th>Category</th>\n",
       "      <th>Message</th>\n",
       "      <th>cleanMessages</th>\n",
       "    </tr>\n",
       "  </thead>\n",
       "  <tbody>\n",
       "    <tr>\n",
       "      <th>0</th>\n",
       "      <td>ham</td>\n",
       "      <td>Go until jurong point, crazy.. Available only ...</td>\n",
       "      <td>jurong point crazy available bugis great world...</td>\n",
       "    </tr>\n",
       "    <tr>\n",
       "      <th>1</th>\n",
       "      <td>ham</td>\n",
       "      <td>Ok lar... Joking wif u oni...</td>\n",
       "      <td>lar     joke wif oni</td>\n",
       "    </tr>\n",
       "    <tr>\n",
       "      <th>2</th>\n",
       "      <td>spam</td>\n",
       "      <td>Free entry in 2 a wkly comp to win FA Cup fina...</td>\n",
       "      <td>free entry wkly comp win cup final tkts       ...</td>\n",
       "    </tr>\n",
       "  </tbody>\n",
       "</table>\n",
       "</div>"
      ],
      "text/plain": [
       "  Category                                            Message  \\\n",
       "0      ham  Go until jurong point, crazy.. Available only ...   \n",
       "1      ham                      Ok lar... Joking wif u oni...   \n",
       "2     spam  Free entry in 2 a wkly comp to win FA Cup fina...   \n",
       "\n",
       "                                       cleanMessages  \n",
       "0  jurong point crazy available bugis great world...  \n",
       "1                               lar     joke wif oni  \n",
       "2  free entry wkly comp win cup final tkts       ...  "
      ]
     },
     "execution_count": 11,
     "metadata": {},
     "output_type": "execute_result"
    }
   ],
   "source": [
    "# Apply the preprocessing text function into Message Data\n",
    "dataset[\"cleanMessages\"] = dataset[\"Message\"].apply(preprocessing_text)\n",
    "\n",
    "# Display the Data from the Dataset\n",
    "dataset.head(3)"
   ]
  },
  {
   "cell_type": "code",
   "execution_count": 12,
   "metadata": {
    "id": "7-S9Xn2bB5ON"
   },
   "outputs": [],
   "source": [
    "# Convert the Category Column into Numerical Data\n",
    "encoder = LabelEncoder()\n",
    "dataset['Category'] = encoder.fit_transform(dataset['Category'])"
   ]
  },
  {
   "cell_type": "markdown",
   "metadata": {
    "id": "rRqYYD7fIoxV"
   },
   "source": [
    "<b>Convert the Text into Vectors"
   ]
  },
  {
   "cell_type": "code",
   "execution_count": 13,
   "metadata": {
    "colab": {
     "base_uri": "https://localhost:8080/"
    },
    "collapsed": true,
    "id": "RlZb3e8NInFx",
    "outputId": "4a232fc9-1117-438a-d1d4-14d509ad0c38"
   },
   "outputs": [
    {
     "name": "stdout",
     "output_type": "stream",
     "text": [
      "The Shape of the X Matrix is : (5157,)\n",
      "The Shape of the Y Matrix is : (5157,)\n"
     ]
    }
   ],
   "source": [
    "# convert the Dataset into Dependent & Independent Matrix\n",
    "X = dataset.iloc[:,-1].values\n",
    "Y = dataset.iloc[:,0].values\n",
    "\n",
    "# Display the Shape of the X & Y Matrix\n",
    "print('The Shape of the X Matrix is : {}'.format(X.shape))\n",
    "print('The Shape of the Y Matrix is : {}'.format(Y.shape))"
   ]
  },
  {
   "cell_type": "code",
   "execution_count": 14,
   "metadata": {
    "id": "klf5TTMwJIU_"
   },
   "outputs": [],
   "source": [
    "# Create the Object of TfidfVectorizer\n",
    "tfidf = TfidfVectorizer(max_features = 1500)\n",
    "X = tfidf.fit_transform(X).toarray()"
   ]
  },
  {
   "cell_type": "markdown",
   "metadata": {
    "id": "BqfLhUr9GZSs"
   },
   "source": [
    "**Split the Dataset into Training & Testing**"
   ]
  },
  {
   "cell_type": "code",
   "execution_count": 15,
   "metadata": {
    "colab": {
     "base_uri": "https://localhost:8080/"
    },
    "collapsed": true,
    "id": "BBd0TnrqGQ5s",
    "outputId": "8cc60c73-9d02-4ebd-e424-c6f89065dc54"
   },
   "outputs": [
    {
     "name": "stdout",
     "output_type": "stream",
     "text": [
      "The Shape of the X Train is : (3867, 1500)\n",
      "The Shape of the Y Train is : (3867,)\n",
      "The Shape of the X Test  is : (1290, 1500)\n",
      "The Shape of the Y Test  is : (1290,)\n"
     ]
    }
   ],
   "source": [
    "# Split the Dataset into Training & Testing Data\n",
    "x_train ,  x_test , y_train , y_test = train_test_split(X , Y , test_size = 0.25 , random_state = 42)\n",
    "\n",
    "# Display the Shape of the Training & Testing Data\n",
    "print('The Shape of the X Train is : {}'.format(x_train.shape))\n",
    "print('The Shape of the Y Train is : {}'.format(y_train.shape))\n",
    "print('The Shape of the X Test  is : {}'.format(x_test.shape))\n",
    "print('The Shape of the Y Test  is : {}'.format(y_test.shape))"
   ]
  },
  {
   "cell_type": "markdown",
   "metadata": {
    "id": "iB3k8lGMJ5oG"
   },
   "source": [
    "<b>Machine Learning Model"
   ]
  },
  {
   "cell_type": "code",
   "execution_count": 16,
   "metadata": {
    "id": "Ye-fTe58HfLk"
   },
   "outputs": [],
   "source": [
    "# Create the Model Result function to return the Result of the Model\n",
    "def model_result(model , x_train , x_test , y_train , y_test):\n",
    "    # Fit the Model in the Training Data\n",
    "    model.fit(x_train , y_train)\n",
    "\n",
    "    # Predict the Result\n",
    "    prediction = model.predict(x_test)\n",
    "    # Accuracy Score\n",
    "    acc = accuracy_score(y_test , prediction)\n",
    "    # Confusion Matrix\n",
    "    con = confusion_matrix(y_test , prediction)\n",
    "    # Classification Report\n",
    "    report = classification_report(y_test , prediction)\n",
    "\n",
    "    return model , prediction , acc , con , report"
   ]
  },
  {
   "cell_type": "markdown",
   "metadata": {
    "id": "6rhu2y6nLjEo"
   },
   "source": [
    "Logistic Regression"
   ]
  },
  {
   "cell_type": "code",
   "execution_count": 17,
   "metadata": {
    "collapsed": true,
    "id": "KJWqwtIQLgOr"
   },
   "outputs": [
    {
     "name": "stdout",
     "output_type": "stream",
     "text": [
      "The Accuracy of the Logistic Regression Model is : 0.9534883720930233\n",
      "              precision    recall  f1-score   support\n",
      "\n",
      "           0       0.96      0.99      0.97      1124\n",
      "           1       0.93      0.69      0.79       166\n",
      "\n",
      "    accuracy                           0.95      1290\n",
      "   macro avg       0.94      0.84      0.88      1290\n",
      "weighted avg       0.95      0.95      0.95      1290\n",
      "\n"
     ]
    }
   ],
   "source": [
    "# Create the Object of the Logistic Regression\n",
    "model_LR =  LogisticRegression()\n",
    "\n",
    "# Call the model_result Function\n",
    "model_LR , prediction_LR , acc_LR , con_LR , report_LR = model_result(model_LR , x_train ,  x_test , y_train , y_test)\n",
    "\n",
    "# Display the Accuracy\n",
    "print(\"The Accuracy of the Logistic Regression Model is : {}\".format(acc_LR))\n",
    "# Display the Classification Report\n",
    "print(report_LR)"
   ]
  },
  {
   "cell_type": "code",
   "execution_count": 18,
   "metadata": {
    "collapsed": true,
    "id": "YrgtSjzJMJvm"
   },
   "outputs": [
    {
     "data": {
      "image/png": "[encoded data removed]",
      "text/plain": [
       "<Figure size 432x288 with 2 Axes>"
      ]
     },
     "metadata": {
      "needs_background": "light"
     },
     "output_type": "display_data"
    }
   ],
   "source": [
    "# Display the Confusion Matrix by using Heatmap\n",
    "sns.heatmap(con_LR , annot = True)\n",
    "plt.show()"
   ]
  },
  {
   "cell_type": "markdown",
   "metadata": {
    "id": "FZL7aZHrS6gr"
   },
   "source": [
    "Decision Tree Classifier"
   ]
  },
  {
   "cell_type": "code",
   "execution_count": 19,
   "metadata": {
    "collapsed": true,
    "id": "J1e04vbKS0uB"
   },
   "outputs": [
    {
     "name": "stdout",
     "output_type": "stream",
     "text": [
      "The Accuracy of the Decision Tree Classifier Model is : 0.958139534883721\n",
      "              precision    recall  f1-score   support\n",
      "\n",
      "           0       0.98      0.97      0.98      1124\n",
      "           1       0.81      0.89      0.84       166\n",
      "\n",
      "    accuracy                           0.96      1290\n",
      "   macro avg       0.90      0.93      0.91      1290\n",
      "weighted avg       0.96      0.96      0.96      1290\n",
      "\n"
     ]
    }
   ],
   "source": [
    "# Create the Object of the Decision Tree Classifier\n",
    "model_DT =  DecisionTreeClassifier()\n",
    "\n",
    "# Call the model_result Function\n",
    "model_DT , prediction_DT , acc_DT , con_DT , report_DT = model_result(model_DT , x_train ,  x_test , y_train , y_test)\n",
    "\n",
    "# Display the Accuracy\n",
    "print(\"The Accuracy of the Decision Tree Classifier Model is : {}\".format(acc_DT))\n",
    "# Display the Classification Report\n",
    "print(report_DT)"
   ]
  },
  {
   "cell_type": "code",
   "execution_count": 20,
   "metadata": {
    "collapsed": true,
    "id": "qIj4dfYbTPuA"
   },
   "outputs": [
    {
     "data": {
      "image/png": "[encoded data removed]",
      "text/plain": [
       "<Figure size 432x288 with 2 Axes>"
      ]
     },
     "metadata": {
      "needs_background": "light"
     },
     "output_type": "display_data"
    }
   ],
   "source": [
    "# Display the Confusion Matrix by using Heatmap\n",
    "sns.heatmap(con_DT , annot = True)\n",
    "plt.show()"
   ]
  },
  {
   "cell_type": "markdown",
   "metadata": {
    "id": "sJhJMAm5TbgA"
   },
   "source": [
    "Random Forest Classifier"
   ]
  },
  {
   "cell_type": "code",
   "execution_count": 21,
   "metadata": {
    "collapsed": true,
    "id": "deBKdhQ1TVCR"
   },
   "outputs": [
    {
     "name": "stdout",
     "output_type": "stream",
     "text": [
      "The Accuracy of the Random Forest Classifier Model is : 0.982170542635659\n",
      "              precision    recall  f1-score   support\n",
      "\n",
      "           0       0.99      0.99      0.99      1124\n",
      "           1       0.96      0.90      0.93       166\n",
      "\n",
      "    accuracy                           0.98      1290\n",
      "   macro avg       0.97      0.95      0.96      1290\n",
      "weighted avg       0.98      0.98      0.98      1290\n",
      "\n"
     ]
    }
   ],
   "source": [
    "# Create the Object of the Random Forest Classifier\n",
    "model_RT =  RandomForestClassifier()\n",
    "\n",
    "# Call the model_result Function\n",
    "model_RT , prediction_RT , acc_RT , con_RT , report_RT = model_result(model_RT , x_train ,  x_test , y_train , y_test)\n",
    "\n",
    "# Display the Accuracy\n",
    "print(\"The Accuracy of the Random Forest Classifier Model is : {}\".format(acc_RT))\n",
    "# Display the Classification Report\n",
    "print(report_RT)"
   ]
  },
  {
   "cell_type": "code",
   "execution_count": 22,
   "metadata": {
    "collapsed": true,
    "id": "oUBvhpzMTvGE"
   },
   "outputs": [
    {
     "data": {
      "image/png": "[encoded data removed]",
      "text/plain": [
       "<Figure size 432x288 with 2 Axes>"
      ]
     },
     "metadata": {
      "needs_background": "light"
     },
     "output_type": "display_data"
    }
   ],
   "source": [
    "# Display the Confusion Matrix by using Heatmap\n",
    "sns.heatmap(con_RT , annot = True)\n",
    "plt.show()"
   ]
  },
  {
   "cell_type": "markdown",
   "metadata": {
    "id": "435PHFF-T_gb"
   },
   "source": [
    "<b>Model Selection"
   ]
  },
  {
   "cell_type": "code",
   "execution_count": 23,
   "metadata": {
    "colab": {
     "base_uri": "https://localhost:8080/",
     "height": 430
    },
    "collapsed": true,
    "id": "mQfKStnPT3Tg",
    "outputId": "6e6cdf6d-49b1-484a-a355-c243cce0da41"
   },
   "outputs": [
    {
     "name": "stderr",
     "output_type": "stream",
     "text": [
      "D:\\anaconda3\\lib\\site-packages\\seaborn\\_decorators.py:36: FutureWarning: Pass the following variables as keyword args: x, y. From version 0.12, the only valid positional argument will be `data`, and passing other arguments without an explicit keyword will result in an error or misinterpretation.\n",
      "  warnings.warn(\n"
     ]
    },
    {
     "data": {
      "image/png": "[encoded data removed]",
      "text/plain": [
       "<Figure size 432x288 with 1 Axes>"
      ]
     },
     "metadata": {
      "needs_background": "light"
     },
     "output_type": "display_data"
    }
   ],
   "source": [
    "# Accuracy of All Model\n",
    "acc = [acc_LR , acc_DT , acc_RT]\n",
    "\n",
    "# All Models Name\n",
    "model = ['Logistic Regression' , 'Decision Tree' , 'Random Forest']\n",
    "\n",
    "# Display the All Model with Accuracy\n",
    "sns.barplot(model , acc)\n",
    "plt.show()"
   ]
  },
  {
   "cell_type": "code",
   "execution_count": 24,
   "metadata": {
    "id": "X-RP2BV0USNn"
   },
   "outputs": [],
   "source": [
    "# Save the Model and Vectorizer\n",
    "pickle.dump((tfidf) , open(\"Vectroizer.pkl\" , \"wb\"))\n",
    "pickle.dump((model_RT) , open(\"model.pkl\" , \"wb\"))"
   ]
  },
  {
   "cell_type": "code",
   "execution_count": null,
   "metadata": {},
   "outputs": [],
   "source": []
  },
  {
   "cell_type": "code",
   "execution_count": null,
   "metadata": {},
   "outputs": [],
   "source": []
  },
  {
   "cell_type": "code",
   "execution_count": null,
   "metadata": {},
   "outputs": [],
   "source": []
  },
  {
   "cell_type": "code",
   "execution_count": null,
   "metadata": {},
   "outputs": [],
   "source": []
  },
  {
   "cell_type": "code",
   "execution_count": null,
   "metadata": {},
   "outputs": [],
   "source": []
  },
  {
   "cell_type": "code",
   "execution_count": null,
   "metadata": {},
   "outputs": [],
   "source": []
  },
  {
   "cell_type": "code",
   "execution_count": null,
   "metadata": {},
   "outputs": [],
   "source": []
  },
  {
   "cell_type": "code",
   "execution_count": null,
   "metadata": {},
   "outputs": [],
   "source": []
  },
  {
   "cell_type": "code",
   "execution_count": null,
   "metadata": {},
   "outputs": [],
   "source": []
  },
  {
   "cell_type": "code",
   "execution_count": null,
   "metadata": {},
   "outputs": [],
   "source": []
  },
  {
   "cell_type": "code",
   "execution_count": null,
   "metadata": {},
   "outputs": [],
   "source": []
  },
  {
   "cell_type": "code",
   "execution_count": null,
   "metadata": {},
   "outputs": [],
   "source": []
  },
  {
   "cell_type": "code",
   "execution_count": null,
   "metadata": {},
   "outputs": [],
   "source": []
  },
  {
   "cell_type": "code",
   "execution_count": null,
   "metadata": {},
   "outputs": [],
   "source": []
  },
  {
   "cell_type": "code",
   "execution_count": null,
   "metadata": {},
   "outputs": [],
   "source": []
  },
  {
   "cell_type": "code",
   "execution_count": null,
   "metadata": {},
   "outputs": [],
   "source": []
  },
  {
   "cell_type": "code",
   "execution_count": null,
   "metadata": {},
   "outputs": [],
   "source": []
  }
 ],
 "metadata": {
  "accelerator": "GPU",
  "colab": {
   "gpuType": "T4",
   "provenance": []
  },
  "gpuClass": "standard",
  "kernelspec": {
   "display_name": "Python 3 (ipykernel)",
   "language": "python",
   "name": "python3"
  },
  "language_info": {
   "codemirror_mode": {
    "name": "ipython",
    "version": 3
   },
   "file_extension": ".py",
   "mimetype": "text/x-python",
   "name": "python",
   "nbconvert_exporter": "python",
   "pygments_lexer": "ipython3",
   "version": "3.9.12"
  }
 },
 "nbformat": 4,
 "nbformat_minor": 1
}
